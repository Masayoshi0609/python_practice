{
 "cells": [
  {
   "cell_type": "code",
   "execution_count": null,
   "id": "ea92d2ee-db29-48a7-8c82-46e0e97c15a2",
   "metadata": {},
   "outputs": [],
   "source": [
    "#page81,リストについての学習"
   ]
  },
  {
   "cell_type": "code",
   "execution_count": 1,
   "id": "6f79a9ea-f670-4b0e-bdff-64fde2699cb8",
   "metadata": {},
   "outputs": [
    {
     "name": "stdout",
     "output_type": "stream",
     "text": [
      "['木村', '信玄', '握野']\n"
     ]
    }
   ],
   "source": [
    "FRAME = ['木村', '信玄', '握野']\n",
    "print(FRAME)"
   ]
  },
  {
   "cell_type": "code",
   "execution_count": 2,
   "id": "c1b5ef08-42b0-4f08-982c-c129e99eed84",
   "metadata": {},
   "outputs": [
    {
     "name": "stdout",
     "output_type": "stream",
     "text": [
      "握野\n"
     ]
    }
   ],
   "source": [
    "print(FRAME[2])"
   ]
  },
  {
   "cell_type": "code",
   "execution_count": 3,
   "id": "9eb91e0a-d8ae-4da9-adb3-69fab39171db",
   "metadata": {},
   "outputs": [
    {
     "name": "stdout",
     "output_type": "stream",
     "text": [
      "合計は140点です\n"
     ]
    }
   ],
   "source": [
    "#sum関数を用いれば、簡単に合計値を求められる\n",
    "scores = [60, 30, 50]\n",
    "total = sum(scores)\n",
    "print(f'合計は{total}点です')"
   ]
  },
  {
   "cell_type": "code",
   "execution_count": 6,
   "id": "62077efb-8bd1-41c4-a2df-39c5e038fdae",
   "metadata": {},
   "outputs": [
    {
     "name": "stdout",
     "output_type": "stream",
     "text": [
      "合計は140点です。平均は46.7点です。\n"
     ]
    }
   ],
   "source": [
    "#len関数では要素の数を求められる。これを組み合わせて、scoreの平均値を求める。\n",
    "#round関数は、小数点を任意の位で四捨五入する。\n",
    "#小数点の四捨五入については、format関数を用いることもできる。\n",
    "scores = [60, 30, 50]\n",
    "total = sum(scores)\n",
    "avg = round(total / len(scores), 1)\n",
    "print(f'合計は{total}点です。平均は{avg}点です。')"
   ]
  },
  {
   "cell_type": "code",
   "execution_count": 7,
   "id": "437fcd6c-678f-4fea-b24d-5ce5ad47dbb9",
   "metadata": {},
   "outputs": [
    {
     "name": "stdout",
     "output_type": "stream",
     "text": [
      "[60, 30, 50, 10]\n"
     ]
    }
   ],
   "source": [
    "#リストに要素を追加するappend関数。必ず「.append」の形で用いるので注意。\n",
    "scores.append(10)\n",
    "print(scores)"
   ]
  },
  {
   "cell_type": "code",
   "execution_count": 8,
   "id": "b46d5c6a-9c24-43d5-a1e0-8d102c65c402",
   "metadata": {},
   "outputs": [
    {
     "name": "stdout",
     "output_type": "stream",
     "text": [
      "['木村', '信玄', '握野', 'モブおじさん']\n",
      "['木村', '信玄', '握野']\n"
     ]
    }
   ],
   "source": [
    "#反対に、remove関数を使うと、リストから削除もできる。\n",
    "FRAME.append('モブおじさん')\n",
    "print(FRAME)\n",
    "FRAME.remove('モブおじさん')\n",
    "print(FRAME)"
   ]
  },
  {
   "cell_type": "code",
   "execution_count": 9,
   "id": "59bb7d81-6d07-462c-80a6-40c308d527b8",
   "metadata": {},
   "outputs": [
    {
     "name": "stdout",
     "output_type": "stream",
     "text": [
      "['木村龍', '信玄', '握野']\n"
     ]
    }
   ],
   "source": [
    "#要素の変更を行う際は、indexを指定して書き換えることができる。\n",
    "FRAME[0] = '木村龍'\n",
    "print(FRAME)"
   ]
  },
  {
   "cell_type": "code",
   "execution_count": 11,
   "id": "a1230167-c210-42c5-94b0-e04233b76860",
   "metadata": {},
   "outputs": [
    {
     "name": "stdout",
     "output_type": "stream",
     "text": [
      "[20, 30]\n"
     ]
    }
   ],
   "source": [
    "#スライスによる範囲指定\n",
    "a = [10, 20, 30, 40, 50]\n",
    "print(a[1:3]) #indexが1以上、3未満の要素（indexが0から始まることに注意）"
   ]
  },
  {
   "cell_type": "code",
   "execution_count": 12,
   "id": "44dfabc7-c230-436a-8f1d-03ef2ba72068",
   "metadata": {},
   "outputs": [
    {
     "name": "stdout",
     "output_type": "stream",
     "text": [
      "[30, 40, 50]\n",
      "[10, 20, 30]\n"
     ]
    }
   ],
   "source": [
    "#スライスその2\n",
    "print(a[2:]) #indexが2以上の全ての要素\n",
    "print(a[:3]) #indexが3未満の全ての要素"
   ]
  },
  {
   "cell_type": "code",
   "execution_count": 14,
   "id": "e92bb93d-c1cc-4473-931c-c981c5f30732",
   "metadata": {},
   "outputs": [
    {
     "name": "stdout",
     "output_type": "stream",
     "text": [
      "50\n",
      "40\n"
     ]
    }
   ],
   "source": [
    "#負の数による指定\n",
    "#リストの要素は末尾を「-1」として、末尾から順に指定ができる。\n",
    "print(a[-1]) #末尾の要素を参照\n",
    "print(a[-2]) #末尾から2番目の要素を参照"
   ]
  },
  {
   "cell_type": "code",
   "execution_count": null,
   "id": "eddc1152-127d-4aa1-9b95-d0e775cf98aa",
   "metadata": {},
   "outputs": [],
   "source": []
  }
 ],
 "metadata": {
  "kernelspec": {
   "display_name": "Python 3",
   "language": "python",
   "name": "python3"
  },
  "language_info": {
   "codemirror_mode": {
    "name": "ipython",
    "version": 3
   },
   "file_extension": ".py",
   "mimetype": "text/x-python",
   "name": "python",
   "nbconvert_exporter": "python",
   "pygments_lexer": "ipython3",
   "version": "3.8.8"
  }
 },
 "nbformat": 4,
 "nbformat_minor": 5
}
