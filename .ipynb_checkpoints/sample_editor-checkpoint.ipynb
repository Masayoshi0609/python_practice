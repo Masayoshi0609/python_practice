{
 "cells": [
  {
   "cell_type": "markdown",
   "metadata": {
    "id": "Fmz4FCelFTA4"
   },
   "source": [
    "# sample exercises\n",
    "\n",
    "1. 課題の取り組み方について学習します。"
   ]
  },
  {
   "cell_type": "markdown",
   "metadata": {
    "id": "5QR6Hi3gFTBA"
   },
   "source": [
    "### 1. 課題の取り組み方について学習します。"
   ]
  },
  {
   "cell_type": "markdown",
   "metadata": {
    "id": "dkU7L1haFTBB"
   },
   "source": [
    "#### 1.1 「変数num1を定義して、num1に8を代入して、表示してください。」"
   ]
  },
  {
   "cell_type": "code",
   "execution_count": null,
   "metadata": {
    "colab": {
     "base_uri": "https://localhost:8080/"
    },
    "id": "5MWv0cwHFTBC",
    "outputId": "9a3b4375-2f7a-4fce-93ea-9dacc664329b"
   },
   "outputs": [
    {
     "name": "stdout",
     "output_type": "stream",
     "text": [
      "8\n"
     ]
    }
   ],
   "source": [
    "num1 = 8\n",
    "print(num1)\n"
   ]
  },
  {
   "cell_type": "markdown",
   "metadata": {
    "id": "OH4XCIlkFTBD"
   },
   "source": [
    "#### 1.2 「変数num2を定義して、num2に4を代入して、表示してください。」"
   ]
  },
  {
   "cell_type": "code",
   "execution_count": null,
   "metadata": {
    "colab": {
     "base_uri": "https://localhost:8080/"
    },
    "id": "jxG_U-uGFTBD",
    "outputId": "cbe20340-5ec2-40e2-9ad5-5e1875b0fb2b"
   },
   "outputs": [
    {
     "name": "stdout",
     "output_type": "stream",
     "text": [
      "4\n"
     ]
    }
   ],
   "source": [
    "num2 = 4\n",
    "print(num2)"
   ]
  },
  {
   "cell_type": "markdown",
   "metadata": {
    "id": "MvUFeRQfFTBE"
   },
   "source": [
    "#### 1.3 「変数num1とnum2の和を求めてください。」"
   ]
  },
  {
   "cell_type": "code",
   "execution_count": null,
   "metadata": {
    "colab": {
     "base_uri": "https://localhost:8080/"
    },
    "id": "-G-kIj9TFTBG",
    "outputId": "3890a116-4c82-49bc-98ac-dd9f37bde69b"
   },
   "outputs": [
    {
     "name": "stdout",
     "output_type": "stream",
     "text": [
      "12\n"
     ]
    }
   ],
   "source": [
    "num1 =8\n",
    "num2 =4\n",
    "print(num1 + num2)"
   ]
  },
  {
   "cell_type": "markdown",
   "metadata": {
    "id": "iwc_c05zFTBH"
   },
   "source": [
    "#### 1.4 「変数num1とnum2の差を求めてください。」"
   ]
  },
  {
   "cell_type": "code",
   "execution_count": null,
   "metadata": {
    "colab": {
     "base_uri": "https://localhost:8080/"
    },
    "id": "134HKiBSFTBH",
    "outputId": "20f1bab6-3d53-49b5-87bd-2e6e74d1732d"
   },
   "outputs": [
    {
     "name": "stdout",
     "output_type": "stream",
     "text": [
      "4\n"
     ]
    }
   ],
   "source": [
    "num1 =8\n",
    "num2 =4\n",
    "print(num1 - num2)"
   ]
  },
  {
   "cell_type": "markdown",
   "metadata": {
    "id": "nwlrtsn8FTBI"
   },
   "source": [
    "#### 1.5 「変数num1とnum2の積を求めてください。」"
   ]
  },
  {
   "cell_type": "code",
   "execution_count": null,
   "metadata": {
    "colab": {
     "base_uri": "https://localhost:8080/"
    },
    "id": "ukT10rf5FTBJ",
    "outputId": "e9a8f048-d64b-4787-9e8e-2fa4698f76e4"
   },
   "outputs": [
    {
     "name": "stdout",
     "output_type": "stream",
     "text": [
      "32\n"
     ]
    }
   ],
   "source": [
    "num1 = 8\n",
    "num2 = 4\n",
    "print(num1 * num2)"
   ]
  },
  {
   "cell_type": "markdown",
   "metadata": {
    "id": "N3XvXOTZFTBK"
   },
   "source": [
    "1.6 「変数num1とnum2の商を求めてください。」"
   ]
  },
  {
   "cell_type": "code",
   "execution_count": 1,
   "metadata": {
    "colab": {
     "base_uri": "https://localhost:8080/"
    },
    "id": "z5xuXn87FTBK",
    "outputId": "989952e2-46a6-4198-8266-74ad3e4b5170"
   },
   "outputs": [
    {
     "name": "stdout",
     "output_type": "stream",
     "text": [
      "2.0\n"
     ]
    }
   ],
   "source": [
    "#商は小数点がつくことに注意\n",
    "num1 = 8\n",
    "num2 = 4\n",
    "print(num1 / num2)"
   ]
  },
  {
   "cell_type": "code",
   "execution_count": null,
   "metadata": {
    "id": "a_Ff3nQ5IrIN"
   },
   "outputs": [],
   "source": []
  }
 ],
 "metadata": {
  "accelerator": "GPU",
  "colab": {
   "name": "sample_editor.ipynb",
   "provenance": []
  },
  "kernelspec": {
   "display_name": "Python 3",
   "language": "python",
   "name": "python3"
  },
  "language_info": {
   "codemirror_mode": {
    "name": "ipython",
    "version": 3
   },
   "file_extension": ".py",
   "mimetype": "text/x-python",
   "name": "python",
   "nbconvert_exporter": "python",
   "pygments_lexer": "ipython3",
   "version": "3.8.8"
  },
  "toc": {
   "base_numbering": 1,
   "nav_menu": {},
   "number_sections": true,
   "sideBar": true,
   "skip_h1_title": false,
   "title_cell": "Table of Contents",
   "title_sidebar": "Contents",
   "toc_cell": false,
   "toc_position": {},
   "toc_section_display": true,
   "toc_window_display": false
  },
  "varInspector": {
   "cols": {
    "lenName": 16,
    "lenType": 16,
    "lenVar": 40
   },
   "kernels_config": {
    "python": {
     "delete_cmd_postfix": "",
     "delete_cmd_prefix": "del ",
     "library": "var_list.py",
     "varRefreshCmd": "print(var_dic_list())"
    },
    "r": {
     "delete_cmd_postfix": ") ",
     "delete_cmd_prefix": "rm(",
     "library": "var_list.r",
     "varRefreshCmd": "cat(var_dic_list()) "
    }
   },
   "types_to_exclude": [
    "module",
    "function",
    "builtin_function_or_method",
    "instance",
    "_Feature"
   ],
   "window_display": false
  }
 },
 "nbformat": 4,
 "nbformat_minor": 4
}
