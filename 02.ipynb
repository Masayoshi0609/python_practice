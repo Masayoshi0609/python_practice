{
 "cells": [
  {
   "cell_type": "code",
   "execution_count": 1,
   "id": "e10244bf-3354-4f57-9bea-ff2770b5676d",
   "metadata": {},
   "outputs": [
    {
     "name": "stdout",
     "output_type": "stream",
     "text": [
      "{'network': 60, 'database': 80, 'security': 50}\n"
     ]
    }
   ],
   "source": [
    "#ディクショナリは{}波カッコを使うので注意\n",
    "scores = {'network':60, 'database':80, 'security':50}\n",
    "print(scores)"
   ]
  },
  {
   "cell_type": "code",
   "execution_count": 3,
   "id": "9cfb19d1-ae95-42f1-a00a-cc1ad7cb6aec",
   "metadata": {},
   "outputs": [
    {
     "name": "stdout",
     "output_type": "stream",
     "text": [
      "80\n"
     ]
    }
   ],
   "source": [
    "#特定の要素を抜き出して参照する場合は以下のように記述\n",
    "print(scores['database'])"
   ]
  },
  {
   "cell_type": "code",
   "execution_count": 5,
   "id": "8f656be9-3627-4a7c-aa84-f6a4a6e6f928",
   "metadata": {},
   "outputs": [
    {
     "name": "stdout",
     "output_type": "stream",
     "text": [
      "{'network': 60, 'database': 80, 'security': 55, 'programing': 65}\n"
     ]
    }
   ],
   "source": [
    "scores['programing'] = 65 #要素の追加\n",
    "scores['security'] = 55 #要素の変更\n",
    "print(scores)"
   ]
  },
  {
   "cell_type": "code",
   "execution_count": 6,
   "id": "78eddf41-79a5-4794-8751-092bb8990a4e",
   "metadata": {},
   "outputs": [
    {
     "name": "stdout",
     "output_type": "stream",
     "text": [
      "{'network': 60, 'database': 80, 'programing': 65}\n"
     ]
    }
   ],
   "source": [
    "#ディクショナリ要素を削除する際は、del文というものを用いる。\n",
    "del scores['security']\n",
    "print(scores)"
   ]
  }
 ],
 "metadata": {
  "kernelspec": {
   "display_name": "Python 3",
   "language": "python",
   "name": "python3"
  },
  "language_info": {
   "codemirror_mode": {
    "name": "ipython",
    "version": 3
   },
   "file_extension": ".py",
   "mimetype": "text/x-python",
   "name": "python",
   "nbconvert_exporter": "python",
   "pygments_lexer": "ipython3",
   "version": "3.8.8"
  }
 },
 "nbformat": 4,
 "nbformat_minor": 5
}
