{
 "cells": [
  {
   "cell_type": "code",
   "execution_count": 1,
   "id": "3427ead5-8f96-4660-9e47-b9efad302298",
   "metadata": {},
   "outputs": [
    {
     "name": "stdout",
     "output_type": "stream",
     "text": [
      "英雄\n",
      "23\n"
     ]
    }
   ],
   "source": [
    "name = '英雄'\n",
    "age = 23\n",
    "print(name)\n",
    "print(age)"
   ]
  },
  {
   "cell_type": "code",
   "execution_count": 2,
   "id": "12d0ba78-f65e-475e-b845-287d0af22bbb",
   "metadata": {},
   "outputs": [
    {
     "name": "stdin",
     "output_type": "stream",
     "text": [
      "あなたの名前を入力してください まさよし\n"
     ]
    },
    {
     "name": "stdout",
     "output_type": "stream",
     "text": [
      "おおまさよしよ！しんでしまうとはなさけない！\n"
     ]
    }
   ],
   "source": [
    "name =input('あなたの名前を入力してください')\n",
    "print('おお' + name + 'よ！しんでしまうとはなさけない！')"
   ]
  },
  {
   "cell_type": "code",
   "execution_count": 3,
   "id": "af38526b-7eac-49bc-976b-cd8bba7acb41",
   "metadata": {},
   "outputs": [
    {
     "name": "stdout",
     "output_type": "stream",
     "text": [
      "<class 'int'>\n"
     ]
    }
   ],
   "source": [
    "# データ型のチェック\n",
    "x = 10\n",
    "print(type(x))"
   ]
  },
  {
   "cell_type": "code",
   "execution_count": 13,
   "id": "502823f1-d1f9-47e8-8041-f0ae00f1fbb2",
   "metadata": {},
   "outputs": [
    {
     "name": "stdin",
     "output_type": "stream",
     "text": [
      "りんごの値段を決めて下さい>> 300\n"
     ]
    },
    {
     "name": "stdout",
     "output_type": "stream",
     "text": [
      "<class 'str'>\n",
      "<class 'int'>\n",
      "設定金額に100円足すと400円です\n"
     ]
    }
   ],
   "source": [
    "# データ型の変換方法\n",
    "price = input(\"りんごの値段を決めて下さい>>\")\n",
    "print(type(price))\n",
    "price = int(price)\n",
    "#上記のように記述することで、str型からint型に変換できる\n",
    "print(type(price))\n",
    "price += 100\n",
    "print('設定金額に100円足すと' + str(price) + '円です')"
   ]
  },
  {
   "cell_type": "code",
   "execution_count": 19,
   "id": "b7c325f3-2a70-440c-b005-91ceb071fa0b",
   "metadata": {},
   "outputs": [
    {
     "name": "stdout",
     "output_type": "stream",
     "text": [
      "私の名前は握野英雄で、年齢は23歳で、身長は171cmです。\n",
      "私の名前は握野英雄で、年齢は23歳で、身長は171cmです。\n",
      "私の名前は握野英雄で、年齢は23歳で、身長は171cmです。\n"
     ]
    }
   ],
   "source": [
    "#.format関数の学習\n",
    "name = '握野英雄'\n",
    "age = 23\n",
    "height = 171\n",
    "\n",
    "#今までの書き方だと下記のように非常に見づらいものとなる\n",
    "print('私の名前は' + name + 'で、年齢は' + str(age) + '歳で、身長は' + str(height) + 'cmです。' )\n",
    "\n",
    "#format関数を用いた場合は、下記のように記述できる。\n",
    "print('私の名前は{}で、年齢は{}歳で、身長は{}cmです。'\n",
    "    .format(name, age, height))\n",
    "\n",
    "#さらに、python3.6で導入されたf-stringという機能を用いれば、より簡潔に記述できる。\n",
    "print(f'私の名前は{name}で、年齢は{age}歳で、身長は{height}cmです。')"
   ]
  }
 ],
 "metadata": {
  "kernelspec": {
   "display_name": "Python 3",
   "language": "python",
   "name": "python3"
  },
  "language_info": {
   "codemirror_mode": {
    "name": "ipython",
    "version": 3
   },
   "file_extension": ".py",
   "mimetype": "text/x-python",
   "name": "python",
   "nbconvert_exporter": "python",
   "pygments_lexer": "ipython3",
   "version": "3.8.8"
  }
 },
 "nbformat": 4,
 "nbformat_minor": 5
}
